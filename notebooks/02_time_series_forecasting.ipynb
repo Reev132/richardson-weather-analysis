{
 "cells": [
  {
   "cell_type": "code",
   "execution_count": null,
   "id": "5dea9ebf-2de5-4f77-b8e7-fe9a44a3611d",
   "metadata": {},
   "outputs": [],
   "source": []
  }
 ],
 "metadata": {
  "kernelspec": {
   "display_name": "",
   "name": ""
  },
  "language_info": {
   "name": ""
  }
 },
 "nbformat": 4,
 "nbformat_minor": 5
}
