{
 "cells": [
  {
   "cell_type": "code",
   "execution_count": null,
   "id": "fd411f43-cb79-4d32-8596-08bf6a161573",
   "metadata": {},
   "outputs": [],
   "source": []
  }
 ],
 "metadata": {
  "kernelspec": {
   "display_name": "",
   "name": ""
  },
  "language_info": {
   "name": ""
  }
 },
 "nbformat": 4,
 "nbformat_minor": 5
}
